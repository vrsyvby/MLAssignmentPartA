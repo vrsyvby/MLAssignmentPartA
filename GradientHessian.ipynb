{
 "cells": [
  {
   "cell_type": "code",
   "execution_count": 45,
   "id": "1581f1ed-67b8-430b-9107-5d4524ad204f",
   "metadata": {},
   "outputs": [],
   "source": [
    "import numpy as np\n",
    "import pandas as pd\n",
    "import sympy as sp\n",
    "from scipy.linalg import lu"
   ]
  },
  {
   "cell_type": "code",
   "execution_count": 46,
   "id": "7348e9f9-4710-45ce-b4da-24e56f570f8b",
   "metadata": {},
   "outputs": [
    {
     "name": "stdout",
     "output_type": "stream",
     "text": [
      "Gradient: [2*x + 6*y - 10, 6*x + 2*y - 3*z - 5, -3*y + 8*z - 21]\n",
      "Hessian matrix:\n",
      "⎡2  6   0 ⎤\n",
      "⎢         ⎥\n",
      "⎢6  2   -3⎥\n",
      "⎢         ⎥\n",
      "⎣0  -3  8 ⎦\n"
     ]
    }
   ],
   "source": [
    "# Define variables\n",
    "x, y, z = sp.symbols('x y z')\n",
    "\n",
    "# Define function\n",
    "f = x**2 + 6*x*y + y**2 - 3*y*z + 4*z**2 - 10*x - 5*y - 21*z\n",
    "\n",
    "# Gradient (vector of first derivatives)\n",
    "grad_f = [sp.diff(f, var) for var in (x, y, z)]\n",
    "print(\"Gradient:\", grad_f)\n",
    "\n",
    "# Hessian (matrix of second derivatives)\n",
    "Hessian_f = sp.hessian(f, (x, y, z))\n",
    "print(\"Hessian matrix:\")\n",
    "sp.pprint(Hessian_f)"
   ]
  },
  {
   "cell_type": "markdown",
   "id": "7ea55dd4-1b28-4540-8d53-5e5cdae3bb82",
   "metadata": {},
   "source": [
    "This code uses the sympy library for symbolic mathematics in Python.\n",
    "\n",
    "Define variables:\n",
    "x, y, z = sp.symbols('x y z')\n",
    "Creates symbolic variables x, y, and z.\n",
    "\n",
    "Define function:\n",
    "f = x**2 + 6*x*y + y**2 - 3*y*z + 4*z**2 - 10*x - 5*y - 21*z\n",
    "Defines a multivariate quadratic function in terms of x, y, and z.\n",
    "\n",
    "Gradient:\n",
    "grad_f = [sp.diff(f, var) for var in (x, y, z)]\n",
    "Computes the gradient (first derivatives with respect to each variable).\n",
    "\n",
    "Hessian:\n",
    "Hessian_f = sp.hessian(f, (x, y, z))\n",
    "Computes the Hessian matrix (second derivatives with respect to each variable).\n",
    "\n",
    "Print results:\n",
    "The gradient and Hessian matrix are printed, showing the rate of change and curvature of the function, respectively."
   ]
  },
  {
   "cell_type": "code",
   "execution_count": 47,
   "id": "82088452-b332-4278-af78-862b2ee1c525",
   "metadata": {},
   "outputs": [
    {
     "name": "stdout",
     "output_type": "stream",
     "text": [
      "Coefficient matrix A =\n",
      "⎡2  6   0 ⎤\n",
      "⎢         ⎥\n",
      "⎢6  2   -3⎥\n",
      "⎢         ⎥\n",
      "⎣0  -3  8 ⎦\n",
      "Right-hand side vector b =\n",
      "⎡10⎤\n",
      "⎢  ⎥\n",
      "⎢5 ⎥\n",
      "⎢  ⎥\n",
      "⎣21⎦\n"
     ]
    }
   ],
   "source": [
    "# Convert to equations = 0\n",
    "eqs = [sp.Eq(g, 0) for g in grad_f]\n",
    "\n",
    "# Convert to matrix form A*x = b\n",
    "A, b = sp.linear_eq_to_matrix(eqs, (x, y, z))\n",
    "\n",
    "print(\"Coefficient matrix A =\")\n",
    "sp.pprint(A)\n",
    "\n",
    "print(\"Right-hand side vector b =\")\n",
    "sp.pprint(b)\n"
   ]
  },
  {
   "cell_type": "markdown",
   "id": "626e7580-48ef-44c6-ba2b-01c334ba9cf3",
   "metadata": {},
   "source": [
    "This code takes the gradient of a multivariate function and sets each partial derivative to zero, which is the condition for finding stationary points (such as minima, maxima, or saddle points).\n",
    "\n",
    "eqs = [sp.Eq(g, 0) for g in grad_f]\n",
    "Converts each gradient component into an equation set to zero.\n",
    "\n",
    "A, b = sp.linear_eq_to_matrix(eqs, (x, y, z))\n",
    "Transforms the system of equations into matrix form: A*x = b, where A is the coefficient matrix and b is the right-hand side vector.\n",
    "\n",
    "sp.pprint(A) and sp.pprint(b)\n",
    "Nicely print the coefficient matrix and the right-hand side vector.\n",
    "\n",
    "This approach is useful for solving systems of linear equations symbolically, especially when finding the critical points of quadratic functions."
   ]
  },
  {
   "cell_type": "code",
   "execution_count": 48,
   "id": "8674931e-ce6e-4b57-8d7b-25ddd2afde30",
   "metadata": {},
   "outputs": [
    {
     "name": "stdout",
     "output_type": "stream",
     "text": [
      "P (permutation matrix):\n",
      " [[0. 1. 0.]\n",
      " [1. 0. 0.]\n",
      " [0. 0. 1.]]\n",
      "L (lower triangular):\n",
      " [[ 1.          0.          0.        ]\n",
      " [ 0.33333333  1.          0.        ]\n",
      " [ 0.         -0.5625      1.        ]]\n",
      "U (upper triangular):\n",
      " [[ 6.          2.         -3.        ]\n",
      " [ 0.          5.33333333  1.        ]\n",
      " [ 0.          0.          8.5625    ]]\n",
      "Reconstructed A:\n",
      " [[ 2.  6.  0.]\n",
      " [ 6.  2. -3.]\n",
      " [ 0. -3.  8.]]\n",
      "L inverse =\n",
      "[[ 1.          0.          0.        ] \n",
      " [-0.33333333  1.          0.        ] \n",
      " [-0.1875      0.5625      1.        ]]\n",
      "U inverse =\n",
      "[[ 0.16666667 -0.0625      0.06569343] \n",
      " [ 0.          0.1875     -0.02189781] \n",
      " [ 0.          0.          0.11678832]]\n",
      "Solution x = Matrix([[2.00000000000000], [1.00000000000000], [3.00000000000000]])\n"
     ]
    }
   ],
   "source": [
    "# Matrix\n",
    "A = np.array(A, dtype=float)\n",
    "\n",
    "# Perform LU decomposition\n",
    "P,L,U = lu(A)\n",
    "\n",
    "print(\"P (permutation matrix):\\n\", P)\n",
    "print(\"L (lower triangular):\\n\", L)\n",
    "print(\"U (upper triangular):\\n\", U)\n",
    "\n",
    "# Verify A = P @ L @ U\n",
    "print(\"Reconstructed A:\\n\", P @ L @ U)\n",
    "\n",
    "# Inverses\n",
    "L_inv = np.linalg.inv(L)\n",
    "U_inv = np.linalg.inv(U)\n",
    "\n",
    "print(\"L inverse =\"); sp.pprint(L_inv)\n",
    "print(\"U inverse =\"); sp.pprint(U_inv)\n",
    "\n",
    "# Compute solution x = U^{-1} * L^{-1} * b\n",
    "x = U_inv @ L_inv @ (P @ b)\n",
    "print(\"Solution x =\", x)"
   ]
  },
  {
   "cell_type": "markdown",
   "id": "51b92102-1b1a-4440-a59d-381f95043b17",
   "metadata": {},
   "source": [
    "This code demonstrates how to solve a system of linear equations using LU decomposition:\n",
    "\n",
    "A = np.array(A, dtype=float)\n",
    "Converts the symbolic coefficient matrix A to a NumPy array of floats for numerical computation.\n",
    "\n",
    "P, L, U = lu(A)\n",
    "Performs LU decomposition, breaking A into a permutation matrix P, a lower triangular matrix L, and an upper triangular matrix U.\n",
    "\n",
    "The code prints each matrix and verifies that multiplying them (P @ L @ U) reconstructs the original matrix A.\n",
    "\n",
    "L_inv and U_inv are the inverses of L and U, respectively.\n",
    "\n",
    "The solution to the system A*x = b is computed as x = U_inv @ L_inv @ (P @ b), which uses the inverses and permutation to solve for x.\n",
    "\n",
    "This approach is a standard numerical method for solving linear systems, especially when symbolic solutions are not practical."
   ]
  },
  {
   "cell_type": "code",
   "execution_count": 49,
   "id": "178d934c-adae-489c-a1d2-4f16f8e409b4",
   "metadata": {},
   "outputs": [
    {
     "name": "stdout",
     "output_type": "stream",
     "text": [
      "\n",
      "Leading principal minors:\n",
      "M1 = 2\n",
      "M2 = -32\n",
      "M3 = -274\n",
      "\n",
      "Hessian is Indefinite → Saddle Point\n"
     ]
    }
   ],
   "source": [
    "# Sylvester’s criterion: compute leading principal minors\n",
    "def sylvesters_criterion(H):\n",
    "    n = Hessian_f.shape[0]\n",
    "    minors = [Hessian_f[:k,:k].det() for k in range(1, n+1)]\n",
    "    return minors\n",
    "\n",
    "minors = sylvesters_criterion(Hessian_f)\n",
    "\n",
    "print(\"\\nLeading principal minors:\")\n",
    "for i, val in enumerate(minors, start=1):\n",
    "    print(f\"M{i} =\", val)\n",
    "\n",
    "# Classification\n",
    "if all(m > 0 for m in minors):\n",
    "    print(\"\\nHessian is Positive Definite → Local Minimum\")\n",
    "elif all(((-1)**(i+1))*m > 0 for i,m in enumerate(minors, start=1)):\n",
    "    print(\"\\nHessian is Negative Definite → Local Maximum\")\n",
    "elif any(m == 0 for m in minors):\n",
    "    print(\"\\nTest Inconclusive (some minors = 0)\")\n",
    "else:\n",
    "    print(\"\\nHessian is Indefinite → Saddle Point\")"
   ]
  },
  {
   "cell_type": "markdown",
   "id": "8e0a7f14-04ae-4258-884e-f62f902560b5",
   "metadata": {},
   "source": [
    "This code applies Sylvester’s criterion to classify the critical point of a multivariate function using its Hessian matrix:\n",
    "\n",
    "sylvesters_criterion(H) computes the leading principal minors (determinants of the top-left k×k submatrices) of the Hessian.\n",
    "It prints each minor.\n",
    "If all minors are positive, the\n",
    "Hessian is positive definite (local minimum).\n",
    "If minors alternate in sign, the Hessian is negative definite (local maximum).\n",
    "If any minor is zero, the test is inconclusive.\n",
    "Otherwise, the Hessian is indefinite (saddle point).\n",
    "This is a standard method for determining the nature of stationary points in multivariate calculus."
   ]
  },
  {
   "cell_type": "code",
   "execution_count": null,
   "id": "21d3631d-e5b6-427b-adcb-bd3624fc58f8",
   "metadata": {},
   "outputs": [],
   "source": []
  },
  {
   "cell_type": "code",
   "execution_count": null,
   "id": "fcb47acc-6f8f-4ddc-8839-c9131448e945",
   "metadata": {},
   "outputs": [],
   "source": []
  }
 ],
 "metadata": {
  "kernelspec": {
   "display_name": "Python 3 (ipykernel)",
   "language": "python",
   "name": "python3"
  },
  "language_info": {
   "codemirror_mode": {
    "name": "ipython",
    "version": 3
   },
   "file_extension": ".py",
   "mimetype": "text/x-python",
   "name": "python",
   "nbconvert_exporter": "python",
   "pygments_lexer": "ipython3",
   "version": "3.11.6"
  }
 },
 "nbformat": 4,
 "nbformat_minor": 5
}
