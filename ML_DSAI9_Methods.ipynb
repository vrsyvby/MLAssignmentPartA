{
 "cells": [
  {
   "cell_type": "code",
   "execution_count": 72,
   "id": "c53544e1-a376-4cd6-b65d-d5f9e5f89feb",
   "metadata": {},
   "outputs": [],
   "source": [
    "import numpy as np\n",
    "import pandas as pd"
   ]
  },
  {
   "cell_type": "code",
   "execution_count": 77,
   "id": "6d0516b2-8e0b-4195-8a08-3bee023dc955",
   "metadata": {},
   "outputs": [],
   "source": [
    "Loans = pd.read_csv(\"/home/jovyan/work/german_credit_data.csv\")"
   ]
  },
  {
   "cell_type": "code",
   "execution_count": 78,
   "id": "6fe6a302-38b3-4230-9b75-9f80ea09258e",
   "metadata": {},
   "outputs": [
    {
     "data": {
      "text/html": [
       "<div>\n",
       "<style scoped>\n",
       "    .dataframe tbody tr th:only-of-type {\n",
       "        vertical-align: middle;\n",
       "    }\n",
       "\n",
       "    .dataframe tbody tr th {\n",
       "        vertical-align: top;\n",
       "    }\n",
       "\n",
       "    .dataframe thead th {\n",
       "        text-align: right;\n",
       "    }\n",
       "</style>\n",
       "<table border=\"1\" class=\"dataframe\">\n",
       "  <thead>\n",
       "    <tr style=\"text-align: right;\">\n",
       "      <th></th>\n",
       "      <th>Age</th>\n",
       "      <th>Sex</th>\n",
       "      <th>Job</th>\n",
       "      <th>Housing</th>\n",
       "      <th>Saving accounts</th>\n",
       "      <th>Checking account</th>\n",
       "      <th>Credit amount</th>\n",
       "      <th>Duration</th>\n",
       "      <th>Purpose</th>\n",
       "      <th>Risk</th>\n",
       "    </tr>\n",
       "  </thead>\n",
       "  <tbody>\n",
       "    <tr>\n",
       "      <th>0</th>\n",
       "      <td>67</td>\n",
       "      <td>male</td>\n",
       "      <td>2</td>\n",
       "      <td>own</td>\n",
       "      <td>NaN</td>\n",
       "      <td>little</td>\n",
       "      <td>1169</td>\n",
       "      <td>6</td>\n",
       "      <td>radio/TV</td>\n",
       "      <td>good</td>\n",
       "    </tr>\n",
       "    <tr>\n",
       "      <th>1</th>\n",
       "      <td>22</td>\n",
       "      <td>female</td>\n",
       "      <td>2</td>\n",
       "      <td>own</td>\n",
       "      <td>little</td>\n",
       "      <td>moderate</td>\n",
       "      <td>5951</td>\n",
       "      <td>48</td>\n",
       "      <td>radio/TV</td>\n",
       "      <td>bad</td>\n",
       "    </tr>\n",
       "    <tr>\n",
       "      <th>2</th>\n",
       "      <td>49</td>\n",
       "      <td>male</td>\n",
       "      <td>1</td>\n",
       "      <td>own</td>\n",
       "      <td>little</td>\n",
       "      <td>NaN</td>\n",
       "      <td>2096</td>\n",
       "      <td>12</td>\n",
       "      <td>education</td>\n",
       "      <td>good</td>\n",
       "    </tr>\n",
       "    <tr>\n",
       "      <th>3</th>\n",
       "      <td>45</td>\n",
       "      <td>male</td>\n",
       "      <td>2</td>\n",
       "      <td>free</td>\n",
       "      <td>little</td>\n",
       "      <td>little</td>\n",
       "      <td>7882</td>\n",
       "      <td>42</td>\n",
       "      <td>furniture/equipment</td>\n",
       "      <td>good</td>\n",
       "    </tr>\n",
       "    <tr>\n",
       "      <th>4</th>\n",
       "      <td>53</td>\n",
       "      <td>male</td>\n",
       "      <td>2</td>\n",
       "      <td>free</td>\n",
       "      <td>little</td>\n",
       "      <td>little</td>\n",
       "      <td>4870</td>\n",
       "      <td>24</td>\n",
       "      <td>car</td>\n",
       "      <td>bad</td>\n",
       "    </tr>\n",
       "  </tbody>\n",
       "</table>\n",
       "</div>"
      ],
      "text/plain": [
       "   Age     Sex  Job Housing Saving accounts Checking account  Credit amount  \\\n",
       "0   67    male    2     own             NaN           little           1169   \n",
       "1   22  female    2     own          little         moderate           5951   \n",
       "2   49    male    1     own          little              NaN           2096   \n",
       "3   45    male    2    free          little           little           7882   \n",
       "4   53    male    2    free          little           little           4870   \n",
       "\n",
       "   Duration              Purpose  Risk  \n",
       "0         6             radio/TV  good  \n",
       "1        48             radio/TV   bad  \n",
       "2        12            education  good  \n",
       "3        42  furniture/equipment  good  \n",
       "4        24                  car   bad  "
      ]
     },
     "execution_count": 78,
     "metadata": {},
     "output_type": "execute_result"
    }
   ],
   "source": [
    "Loans.head()"
   ]
  },
  {
   "cell_type": "code",
   "execution_count": 79,
   "id": "c67fa50d-83f1-4eed-a89d-adbafe79eddf",
   "metadata": {},
   "outputs": [
    {
     "name": "stdout",
     "output_type": "stream",
     "text": [
      "<class 'pandas.core.frame.DataFrame'>\n",
      "RangeIndex: 1000 entries, 0 to 999\n",
      "Data columns (total 10 columns):\n",
      " #   Column            Non-Null Count  Dtype \n",
      "---  ------            --------------  ----- \n",
      " 0   Age               1000 non-null   int64 \n",
      " 1   Sex               1000 non-null   object\n",
      " 2   Job               1000 non-null   int64 \n",
      " 3   Housing           1000 non-null   object\n",
      " 4   Saving accounts   817 non-null    object\n",
      " 5   Checking account  606 non-null    object\n",
      " 6   Credit amount     1000 non-null   int64 \n",
      " 7   Duration          1000 non-null   int64 \n",
      " 8   Purpose           1000 non-null   object\n",
      " 9   Risk              1000 non-null   object\n",
      "dtypes: int64(4), object(6)\n",
      "memory usage: 78.3+ KB\n"
     ]
    }
   ],
   "source": [
    "Loans.info()"
   ]
  },
  {
   "cell_type": "markdown",
   "id": "603901db-e115-4967-96fc-268ccc142f85",
   "metadata": {},
   "source": [
    "- **Age**: Numeric variable, has all 1000 rows non null\n",
    "- **Sex**: Categorical variable, has all 1000 rows non null  \n",
    "- **Job**: Categorical variable, has all 1000 rows non null  \n",
    "- **House**: Categorical variable, has all 1000 rows non null  \n",
    "- **Saving accounts**: Categorical variable, has 183 rows null  \n",
    "- **Checking account**: Categorical variable, has 394 rows null \n",
    "- **Credit amount**: Numeric variable, has all 1000 rows non null\n",
    "- **Duration**: Numeric variable, has all 1000 rows non null    \n",
    "- **Purpose**: Categorical variable, has all 1000 rows non null    \n",
    "- **Risk**: Categorical variable, has all 1000 rows non null  "
   ]
  },
  {
   "cell_type": "code",
   "execution_count": 80,
   "id": "d5d742cb-4c0f-4021-8cd9-4cffd16e84d4",
   "metadata": {},
   "outputs": [
    {
     "name": "stdout",
     "output_type": "stream",
     "text": [
      "Numerical columns: ['Age', 'Job', 'Credit amount', 'Duration']\n",
      "Categorical columns: ['Sex', 'Housing', 'Saving accounts', 'Checking account', 'Purpose', 'Risk']\n",
      "<class 'pandas.core.frame.DataFrame'>\n",
      "RangeIndex: 1000 entries, 0 to 999\n",
      "Data columns (total 10 columns):\n",
      " #   Column            Non-Null Count  Dtype   \n",
      "---  ------            --------------  -----   \n",
      " 0   Age               1000 non-null   int64   \n",
      " 1   Sex               1000 non-null   category\n",
      " 2   Job               1000 non-null   int64   \n",
      " 3   Housing           1000 non-null   category\n",
      " 4   Saving accounts   817 non-null    category\n",
      " 5   Checking account  606 non-null    category\n",
      " 6   Credit amount     1000 non-null   int64   \n",
      " 7   Duration          1000 non-null   int64   \n",
      " 8   Purpose           1000 non-null   category\n",
      " 9   Risk              1000 non-null   category\n",
      "dtypes: category(6), int64(4)\n",
      "memory usage: 38.3 KB\n"
     ]
    }
   ],
   "source": [
    "# Converting Objects into categorical variables\n",
    "Loans[\"Sex\"] = Loans[\"Sex\"].astype(\"category\")\n",
    "Loans[\"Housing\"] = Loans[\"Housing\"].astype(\"category\")\n",
    "Loans[\"Saving accounts\"] = Loans[\"Saving accounts\"].astype(\"category\")\n",
    "Loans[\"Checking account\"] = Loans[\"Checking account\"].astype(\"category\")\n",
    "Loans[\"Purpose\"] = Loans[\"Purpose\"].astype(\"category\")\n",
    "Loans[\"Risk\"] = Loans[\"Risk\"].astype(\"category\")\n",
    "\n",
    "# Numerical variables\n",
    "num_vars = Loans.select_dtypes(include=['number']).columns.tolist()\n",
    "\n",
    "# Categorical variables\n",
    "cat_vars = Loans.select_dtypes(include=['category']).columns.tolist()\n",
    "\n",
    "print(\"Numerical columns:\", num_vars)\n",
    "print(\"Categorical columns:\", cat_vars)\n",
    "\n",
    "Loans.info()"
   ]
  },
  {
   "cell_type": "markdown",
   "id": "67753abb-5173-4c47-9dae-c1ec81b7b6ec",
   "metadata": {},
   "source": [
    "> **Memory Optimization with Typecasting**\n",
    "\n",
    "Before typecasting columns to their appropriate data types, the DataFrame used **78.3 KB** of memory.  \n",
    "After typecasting, memory usage dropped to **38.3 KB**—a reduction of more than 50%.\n",
    "\n",
    "> For large datasets, this simple optimization can result in substantial storage savings and improved computational efficiency.  \n",
    ">  \n",
    "> **Tip:** Always review and optimize your data types for better performance!"
   ]
  },
  {
   "cell_type": "code",
   "execution_count": 81,
   "id": "8a40c603-9efa-4532-a8a1-f559c4fe6d35",
   "metadata": {},
   "outputs": [],
   "source": [
    "target = \"Risk\""
   ]
  },
  {
   "cell_type": "code",
   "execution_count": 82,
   "id": "31b3c4aa-9b23-415d-b651-3bfd762f6812",
   "metadata": {},
   "outputs": [],
   "source": [
    "from sklearn.impute import SimpleImputer"
   ]
  },
  {
   "cell_type": "code",
   "execution_count": 83,
   "id": "4082f1ee-96f9-4b58-93ac-89a3db2998fa",
   "metadata": {},
   "outputs": [],
   "source": [
    "imputer = SimpleImputer(strategy = \"most_frequent\")"
   ]
  },
  {
   "cell_type": "code",
   "execution_count": 84,
   "id": "bc0f38f1-6b5a-4921-9ba6-8a0e699e5816",
   "metadata": {},
   "outputs": [
    {
     "name": "stdout",
     "output_type": "stream",
     "text": [
      "<class 'pandas.core.frame.DataFrame'>\n",
      "RangeIndex: 1000 entries, 0 to 999\n",
      "Data columns (total 10 columns):\n",
      " #   Column            Non-Null Count  Dtype   \n",
      "---  ------            --------------  -----   \n",
      " 0   Age               1000 non-null   int64   \n",
      " 1   Sex               1000 non-null   category\n",
      " 2   Job               1000 non-null   int64   \n",
      " 3   Housing           1000 non-null   category\n",
      " 4   Saving accounts   1000 non-null   category\n",
      " 5   Checking account  1000 non-null   category\n",
      " 6   Credit amount     1000 non-null   int64   \n",
      " 7   Duration          1000 non-null   int64   \n",
      " 8   Purpose           1000 non-null   category\n",
      " 9   Risk              1000 non-null   category\n",
      "dtypes: category(6), int64(4)\n",
      "memory usage: 38.3 KB\n"
     ]
    }
   ],
   "source": [
    "# Find columns with missing values\n",
    "missing_cols = Loans.columns[Loans.isnull().any()]\n",
    "\n",
    "# Impute only the missing columns\n",
    "Loans[missing_cols] = imputer.fit_transform(Loans[missing_cols])\n",
    "\n",
    "Loans[\"Saving accounts\"] = Loans[\"Saving accounts\"].astype(\"category\")\n",
    "Loans[\"Checking account\"] = Loans[\"Checking account\"].astype(\"category\")\n",
    "\n",
    "Loans.info()"
   ]
  },
  {
   "cell_type": "code",
   "execution_count": 85,
   "id": "f3d04ae1-88c5-4d7d-9ede-68313de0a886",
   "metadata": {},
   "outputs": [
    {
     "data": {
      "text/plain": [
       "Sex\n",
       "male      690\n",
       "female    310\n",
       "Name: count, dtype: int64"
      ]
     },
     "execution_count": 85,
     "metadata": {},
     "output_type": "execute_result"
    }
   ],
   "source": [
    "Loans[\"Sex\"].value_counts()"
   ]
  },
  {
   "cell_type": "code",
   "execution_count": 86,
   "id": "c962f7ef-5d91-41cb-94ae-249ecec1f3a8",
   "metadata": {},
   "outputs": [
    {
     "data": {
      "text/plain": [
       "Housing\n",
       "own     713\n",
       "rent    179\n",
       "free    108\n",
       "Name: count, dtype: int64"
      ]
     },
     "execution_count": 86,
     "metadata": {},
     "output_type": "execute_result"
    }
   ],
   "source": [
    "Loans[\"Housing\"].value_counts()"
   ]
  },
  {
   "cell_type": "code",
   "execution_count": 87,
   "id": "33a5252f-7bc2-411a-98c6-6f116fa60746",
   "metadata": {},
   "outputs": [
    {
     "data": {
      "text/plain": [
       "Saving accounts\n",
       "little        786\n",
       "moderate      103\n",
       "quite rich     63\n",
       "rich           48\n",
       "Name: count, dtype: int64"
      ]
     },
     "execution_count": 87,
     "metadata": {},
     "output_type": "execute_result"
    }
   ],
   "source": [
    "Loans[\"Saving accounts\"].value_counts()"
   ]
  },
  {
   "cell_type": "code",
   "execution_count": 88,
   "id": "d19e43dd-4e7d-4f40-b339-3652702832dd",
   "metadata": {},
   "outputs": [
    {
     "data": {
      "text/plain": [
       "Checking account\n",
       "little      668\n",
       "moderate    269\n",
       "rich         63\n",
       "Name: count, dtype: int64"
      ]
     },
     "execution_count": 88,
     "metadata": {},
     "output_type": "execute_result"
    }
   ],
   "source": [
    "Loans[\"Checking account\"].value_counts()"
   ]
  },
  {
   "cell_type": "code",
   "execution_count": 89,
   "id": "21c3f135-c774-4e2e-91cc-1ae4c376a722",
   "metadata": {},
   "outputs": [
    {
     "data": {
      "text/plain": [
       "Purpose\n",
       "car                    337\n",
       "radio/TV               280\n",
       "furniture/equipment    181\n",
       "business                97\n",
       "education               59\n",
       "repairs                 22\n",
       "domestic appliances     12\n",
       "vacation/others         12\n",
       "Name: count, dtype: int64"
      ]
     },
     "execution_count": 89,
     "metadata": {},
     "output_type": "execute_result"
    }
   ],
   "source": [
    "Loans[\"Purpose\"].value_counts()"
   ]
  },
  {
   "cell_type": "code",
   "execution_count": 90,
   "id": "af518d5a-21a0-47e5-b5e5-32ae8d4f022e",
   "metadata": {},
   "outputs": [
    {
     "data": {
      "text/plain": [
       "Risk\n",
       "good    700\n",
       "bad     300\n",
       "Name: count, dtype: int64"
      ]
     },
     "execution_count": 90,
     "metadata": {},
     "output_type": "execute_result"
    }
   ],
   "source": [
    "Loans[\"Risk\"].value_counts()"
   ]
  },
  {
   "cell_type": "code",
   "execution_count": 91,
   "id": "b18287b1-ea0e-41c7-978e-b11d2a3858ed",
   "metadata": {},
   "outputs": [
    {
     "data": {
      "text/html": [
       "<div>\n",
       "<style scoped>\n",
       "    .dataframe tbody tr th:only-of-type {\n",
       "        vertical-align: middle;\n",
       "    }\n",
       "\n",
       "    .dataframe tbody tr th {\n",
       "        vertical-align: top;\n",
       "    }\n",
       "\n",
       "    .dataframe thead th {\n",
       "        text-align: right;\n",
       "    }\n",
       "</style>\n",
       "<table border=\"1\" class=\"dataframe\">\n",
       "  <thead>\n",
       "    <tr style=\"text-align: right;\">\n",
       "      <th></th>\n",
       "      <th>Age</th>\n",
       "      <th>Job</th>\n",
       "      <th>Credit amount</th>\n",
       "      <th>Duration</th>\n",
       "    </tr>\n",
       "  </thead>\n",
       "  <tbody>\n",
       "    <tr>\n",
       "      <th>count</th>\n",
       "      <td>1000.00</td>\n",
       "      <td>1000.00</td>\n",
       "      <td>1000.00</td>\n",
       "      <td>1000.00</td>\n",
       "    </tr>\n",
       "    <tr>\n",
       "      <th>mean</th>\n",
       "      <td>35.55</td>\n",
       "      <td>1.90</td>\n",
       "      <td>3271.26</td>\n",
       "      <td>20.90</td>\n",
       "    </tr>\n",
       "    <tr>\n",
       "      <th>std</th>\n",
       "      <td>11.38</td>\n",
       "      <td>0.65</td>\n",
       "      <td>2822.74</td>\n",
       "      <td>12.06</td>\n",
       "    </tr>\n",
       "    <tr>\n",
       "      <th>min</th>\n",
       "      <td>19.00</td>\n",
       "      <td>0.00</td>\n",
       "      <td>250.00</td>\n",
       "      <td>4.00</td>\n",
       "    </tr>\n",
       "    <tr>\n",
       "      <th>25%</th>\n",
       "      <td>27.00</td>\n",
       "      <td>2.00</td>\n",
       "      <td>1365.50</td>\n",
       "      <td>12.00</td>\n",
       "    </tr>\n",
       "    <tr>\n",
       "      <th>50%</th>\n",
       "      <td>33.00</td>\n",
       "      <td>2.00</td>\n",
       "      <td>2319.50</td>\n",
       "      <td>18.00</td>\n",
       "    </tr>\n",
       "    <tr>\n",
       "      <th>75%</th>\n",
       "      <td>42.00</td>\n",
       "      <td>2.00</td>\n",
       "      <td>3972.25</td>\n",
       "      <td>24.00</td>\n",
       "    </tr>\n",
       "    <tr>\n",
       "      <th>max</th>\n",
       "      <td>75.00</td>\n",
       "      <td>3.00</td>\n",
       "      <td>18424.00</td>\n",
       "      <td>72.00</td>\n",
       "    </tr>\n",
       "  </tbody>\n",
       "</table>\n",
       "</div>"
      ],
      "text/plain": [
       "           Age      Job  Credit amount  Duration\n",
       "count  1000.00  1000.00        1000.00   1000.00\n",
       "mean     35.55     1.90        3271.26     20.90\n",
       "std      11.38     0.65        2822.74     12.06\n",
       "min      19.00     0.00         250.00      4.00\n",
       "25%      27.00     2.00        1365.50     12.00\n",
       "50%      33.00     2.00        2319.50     18.00\n",
       "75%      42.00     2.00        3972.25     24.00\n",
       "max      75.00     3.00       18424.00     72.00"
      ]
     },
     "metadata": {},
     "output_type": "display_data"
    }
   ],
   "source": [
    "# Describe numerical variables and round to two decimals\n",
    "num_summary = Loans[num_vars].describe().round(2)\n",
    "display(num_summary)"
   ]
  },
  {
   "cell_type": "markdown",
   "id": "8b308be3-1d17-43a9-b015-64bff934360c",
   "metadata": {},
   "source": [
    "- The **minimum duration** of a loan is **4 months**.\n",
    "- The **maximum duration** of a loan is **72 months**."
   ]
  },
  {
   "cell_type": "code",
   "execution_count": null,
   "id": "8b073bf1-e8d5-42eb-ba69-bd64cc04ca77",
   "metadata": {},
   "outputs": [],
   "source": []
  }
 ],
 "metadata": {
  "kernelspec": {
   "display_name": "Python 3 (ipykernel)",
   "language": "python",
   "name": "python3"
  },
  "language_info": {
   "codemirror_mode": {
    "name": "ipython",
    "version": 3
   },
   "file_extension": ".py",
   "mimetype": "text/x-python",
   "name": "python",
   "nbconvert_exporter": "python",
   "pygments_lexer": "ipython3",
   "version": "3.11.6"
  }
 },
 "nbformat": 4,
 "nbformat_minor": 5
}
